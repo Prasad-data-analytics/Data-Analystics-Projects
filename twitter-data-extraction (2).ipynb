{
 "cells": [
  {
   "cell_type": "markdown",
   "id": "428eb00f",
   "metadata": {
    "papermill": {
     "duration": 0.011214,
     "end_time": "2022-11-15T10:26:11.085972",
     "exception": false,
     "start_time": "2022-11-15T10:26:11.074758",
     "status": "completed"
    },
    "tags": []
   },
   "source": [
    "# Hello!\n",
    "# We will perform Data extraction from twitter and then use that data to analysze the sentiments.\n",
    "# This project will be in Three parts: \n",
    "# 1)Data Extraction\n",
    "# 2)Data Pre - processing\n",
    "# 3)Data analysis"
   ]
  },
  {
   "cell_type": "markdown",
   "id": "9e848250",
   "metadata": {
    "papermill": {
     "duration": 0.008998,
     "end_time": "2022-11-15T10:26:11.104980",
     "exception": false,
     "start_time": "2022-11-15T10:26:11.095982",
     "status": "completed"
    },
    "tags": []
   },
   "source": [
    "# 1) Data Extraction \n",
    "\n",
    "we will import \"Tweepy\" to extract data from twitter.\n",
    "Also for twitter data we need a Twitter developer account."
   ]
  },
  {
   "cell_type": "markdown",
   "id": "3daf4ef3",
   "metadata": {
    "papermill": {
     "duration": 0.010746,
     "end_time": "2022-11-15T10:26:11.125082",
     "exception": false,
     "start_time": "2022-11-15T10:26:11.114336",
     "status": "completed"
    },
    "tags": []
   },
   "source": [
    "# Packages to be imported :\n",
    "Tweepy = For twitter data extraction,\n",
    "Pandas = To fill the data in a table,\n",
    "re = To replace strings,\n",
    "datetime = To get the date from user"
   ]
  },
  {
   "cell_type": "code",
   "execution_count": 1,
   "id": "661da3b9",
   "metadata": {
    "execution": {
     "iopub.execute_input": "2022-11-15T10:26:11.146842Z",
     "iopub.status.busy": "2022-11-15T10:26:11.145697Z",
     "iopub.status.idle": "2022-11-15T10:26:24.808531Z",
     "shell.execute_reply": "2022-11-15T10:26:24.807045Z"
    },
    "papermill": {
     "duration": 13.678176,
     "end_time": "2022-11-15T10:26:24.812470",
     "exception": false,
     "start_time": "2022-11-15T10:26:11.134294",
     "status": "completed"
    },
    "tags": []
   },
   "outputs": [
    {
     "name": "stdout",
     "output_type": "stream",
     "text": [
      "Collecting Tweepy\r\n",
      "  Downloading tweepy-4.12.1-py3-none-any.whl (101 kB)\r\n",
      "\u001b[2K     \u001b[90m━━━━━━━━━━━━━━━━━━━━━━━━━━━━━━━━━━━━━\u001b[0m \u001b[32m101.6/101.6 kB\u001b[0m \u001b[31m923.9 kB/s\u001b[0m eta \u001b[36m0:00:00\u001b[0m\r\n",
      "\u001b[?25hRequirement already satisfied: requests-oauthlib<2,>=1.2.0 in /opt/conda/lib/python3.7/site-packages (from Tweepy) (1.3.1)\r\n",
      "Requirement already satisfied: oauthlib<4,>=3.2.0 in /opt/conda/lib/python3.7/site-packages (from Tweepy) (3.2.0)\r\n",
      "Requirement already satisfied: requests<3,>=2.27.0 in /opt/conda/lib/python3.7/site-packages (from Tweepy) (2.28.1)\r\n",
      "Requirement already satisfied: certifi>=2017.4.17 in /opt/conda/lib/python3.7/site-packages (from requests<3,>=2.27.0->Tweepy) (2022.9.24)\r\n",
      "Requirement already satisfied: idna<4,>=2.5 in /opt/conda/lib/python3.7/site-packages (from requests<3,>=2.27.0->Tweepy) (3.3)\r\n",
      "Requirement already satisfied: urllib3<1.27,>=1.21.1 in /opt/conda/lib/python3.7/site-packages (from requests<3,>=2.27.0->Tweepy) (1.26.12)\r\n",
      "Requirement already satisfied: charset-normalizer<3,>=2 in /opt/conda/lib/python3.7/site-packages (from requests<3,>=2.27.0->Tweepy) (2.1.0)\r\n",
      "Installing collected packages: Tweepy\r\n",
      "Successfully installed Tweepy-4.12.1\r\n",
      "\u001b[33mWARNING: Running pip as the 'root' user can result in broken permissions and conflicting behaviour with the system package manager. It is recommended to use a virtual environment instead: https://pip.pypa.io/warnings/venv\u001b[0m\u001b[33m\r\n",
      "\u001b[0mNote: you may need to restart the kernel to use updated packages.\n"
     ]
    }
   ],
   "source": [
    "pip install Tweepy"
   ]
  },
  {
   "cell_type": "code",
   "execution_count": 2,
   "id": "58b64cbd",
   "metadata": {
    "execution": {
     "iopub.execute_input": "2022-11-15T10:26:24.835998Z",
     "iopub.status.busy": "2022-11-15T10:26:24.835576Z",
     "iopub.status.idle": "2022-11-15T10:26:24.885065Z",
     "shell.execute_reply": "2022-11-15T10:26:24.884080Z"
    },
    "papermill": {
     "duration": 0.063579,
     "end_time": "2022-11-15T10:26:24.887501",
     "exception": false,
     "start_time": "2022-11-15T10:26:24.823922",
     "status": "completed"
    },
    "tags": []
   },
   "outputs": [],
   "source": [
    "#Import packages\n",
    "import tweepy\n",
    "import pandas as pd\n",
    "import re\n",
    "import datetime\n",
    "from datetime import datetime"
   ]
  },
  {
   "cell_type": "markdown",
   "id": "4a2d6327",
   "metadata": {
    "papermill": {
     "duration": 0.010329,
     "end_time": "2022-11-15T10:26:24.907994",
     "exception": false,
     "start_time": "2022-11-15T10:26:24.897665",
     "status": "completed"
    },
    "tags": []
   },
   "source": [
    "# Authentication \n",
    "We will use all the keys from our developer account.This step is called authentication.\n"
   ]
  },
  {
   "cell_type": "code",
   "execution_count": 3,
   "id": "d1adb30c",
   "metadata": {
    "execution": {
     "iopub.execute_input": "2022-11-15T10:26:24.930546Z",
     "iopub.status.busy": "2022-11-15T10:26:24.929527Z",
     "iopub.status.idle": "2022-11-15T10:26:24.936064Z",
     "shell.execute_reply": "2022-11-15T10:26:24.934966Z"
    },
    "papermill": {
     "duration": 0.021076,
     "end_time": "2022-11-15T10:26:24.938955",
     "exception": false,
     "start_time": "2022-11-15T10:26:24.917879",
     "status": "completed"
    },
    "tags": []
   },
   "outputs": [],
   "source": [
    "\n",
    "api_key = \"JVWwfHwPBzLoDc2DfFaFL5gmU\"\n",
    "api_key_secret = \"AeMHhW4ORfwU1nb8eWJg4PP7P8kULKOUPn37nrWFeH1E2W4pZn\"\n",
    "access_token = \"2943199105-fvKLhg03gbnMPTBAfMyiDWo8fm574aVsnAcSRml\"\n",
    "access_token_secret = \"Iu7NIQYPaXGURY8aeVVozGyV4QQOXZOYOrROp6Ad3641D\"\n",
    "\n",
    "#Authentication\n",
    "auth = tweepy.OAuthHandler(api_key,api_key_secret)\n",
    "auth.set_access_token(access_token,access_token_secret)\n",
    "\n",
    "api = tweepy.API(auth)"
   ]
  },
  {
   "cell_type": "markdown",
   "id": "d0821506",
   "metadata": {
    "papermill": {
     "duration": 0.009986,
     "end_time": "2022-11-15T10:26:24.959367",
     "exception": false,
     "start_time": "2022-11-15T10:26:24.949381",
     "status": "completed"
    },
    "tags": []
   },
   "source": [
    "# We will define a function to display the tweet and all the other tweet details\n",
    "n = Tweet index\n",
    "ith_tweet = The details of tweet (We will define this further)"
   ]
  },
  {
   "cell_type": "code",
   "execution_count": 4,
   "id": "59cd47b9",
   "metadata": {
    "execution": {
     "iopub.execute_input": "2022-11-15T10:26:24.982609Z",
     "iopub.status.busy": "2022-11-15T10:26:24.981834Z",
     "iopub.status.idle": "2022-11-15T10:26:24.990582Z",
     "shell.execute_reply": "2022-11-15T10:26:24.989554Z"
    },
    "papermill": {
     "duration": 0.023365,
     "end_time": "2022-11-15T10:26:24.993051",
     "exception": false,
     "start_time": "2022-11-15T10:26:24.969686",
     "status": "completed"
    },
    "tags": []
   },
   "outputs": [],
   "source": [
    "def display_tweet(n, ith_tweet):\n",
    "        print()\n",
    "        print(f\"Tweet {n}:\")\n",
    "        print(f\"Username:{ith_tweet[0]}\")\n",
    "        print(f\"Description:{ith_tweet[1]}\")\n",
    "        print(f\"Location:{ith_tweet[2]}\")\n",
    "        print(f\"Following Count:{ith_tweet[3]}\")\n",
    "        print(f\"Follower Count:{ith_tweet[4]}\")\n",
    "        print(f\"Total Tweets:{ith_tweet[5]}\")\n",
    "        print(f\"Retweet Count:{ith_tweet[6]}\")\n",
    "        print(f\"Tweet Text:{ith_tweet[7]}\")\n",
    "        print(f\"Hashtags Used:{ith_tweet[8]}\")"
   ]
  },
  {
   "cell_type": "markdown",
   "id": "cfccfd7b",
   "metadata": {
    "papermill": {
     "duration": 0.010244,
     "end_time": "2022-11-15T10:26:25.013786",
     "exception": false,
     "start_time": "2022-11-15T10:26:25.003542",
     "status": "completed"
    },
    "tags": []
   },
   "source": [
    "# Data Extraction : We will define a function to extract data, This data will be saved in a dataframe \"db\".\n"
   ]
  },
  {
   "cell_type": "code",
   "execution_count": 5,
   "id": "1f877154",
   "metadata": {
    "execution": {
     "iopub.execute_input": "2022-11-15T10:26:25.037120Z",
     "iopub.status.busy": "2022-11-15T10:26:25.036586Z",
     "iopub.status.idle": "2022-11-15T10:26:25.050057Z",
     "shell.execute_reply": "2022-11-15T10:26:25.049086Z"
    },
    "papermill": {
     "duration": 0.028186,
     "end_time": "2022-11-15T10:26:25.052385",
     "exception": false,
     "start_time": "2022-11-15T10:26:25.024199",
     "status": "completed"
    },
    "tags": []
   },
   "outputs": [],
   "source": [
    "def scrape(words, date_since, numtweet):\n",
    " \n",
    "        # Creating DataFrame using pandas\n",
    "        db = pd.DataFrame(columns=['username',\n",
    "                                   'description',\n",
    "                                   'location',\n",
    "                                   'following',\n",
    "                                   'followers',\n",
    "                                   'totaltweets',\n",
    "                                   'retweetcount',\n",
    "                                   'text',\n",
    "                                   'hashtags'])\n",
    " \n",
    "        # We are using .Cursor() to search\n",
    "        # through twitter for the required tweets.\n",
    "        # The number of tweets can be\n",
    "        # restricted using .items(number of tweets)\n",
    "        tweets = tweepy.Cursor(api.search_tweets,\n",
    "                               words, lang=\"en\",\n",
    "                               since_id=date_since,\n",
    "                               tweet_mode='extended').items(numtweet)\n",
    " \n",
    " \n",
    "        # .Cursor() returns an iterable object. Each item in\n",
    "        # the iterator has various attributes\n",
    "        # that you can access to\n",
    "        # get information about each tweet\n",
    "        list_tweets = [tweet for tweet in tweets]\n",
    " \n",
    "        # Counter to maintain Tweet Count\n",
    "        i = 1\n",
    " \n",
    "        # we will iterate over each tweet in the\n",
    "        # list for extracting information about each tweet\n",
    "        for tweet in list_tweets:\n",
    "                username = tweet.user.screen_name\n",
    "                description = tweet.user.description\n",
    "                location = tweet.user.location\n",
    "                following = tweet.user.friends_count\n",
    "                followers = tweet.user.followers_count\n",
    "                totaltweets = tweet.user.statuses_count\n",
    "                retweetcount = tweet.retweet_count\n",
    "                hashtags = tweet.entities['hashtags']\n",
    " \n",
    "                # Retweets can be distinguished by\n",
    "                # a retweeted_status attribute,\n",
    "                # in case it is an invalid reference,\n",
    "                # except block will be executed\n",
    "                try:\n",
    "                        text = tweet.retweeted_status.full_text\n",
    "                except AttributeError:\n",
    "                        text = tweet.full_text\n",
    "                hashtext = list()\n",
    "                for j in range(0, len(hashtags)):\n",
    "                        hashtext.append(hashtags[j]['text'])\n",
    " \n",
    "                # Here we are appending all the\n",
    "                # extracted information in the DataFrame\n",
    "                ith_tweet = [username, description,\n",
    "                             location, following,\n",
    "                             followers, totaltweets,\n",
    "                             retweetcount, text, hashtext]\n",
    "                db.loc[len(db)] = ith_tweet\n",
    " \n",
    "                # Function call to print tweet data on screen\n",
    "                display_tweet(i, ith_tweet)\n",
    "                i = i+1\n",
    "        filename = 'tweets_data.csv'\n",
    " \n",
    "        # we will save our database as a CSV file.\n",
    "        db.to_csv(filename)\n"
   ]
  },
  {
   "cell_type": "markdown",
   "id": "421b058e",
   "metadata": {
    "papermill": {
     "duration": 0.010041,
     "end_time": "2022-11-15T10:26:25.072764",
     "exception": false,
     "start_time": "2022-11-15T10:26:25.062723",
     "status": "completed"
    },
    "tags": []
   },
   "source": [
    "# We will ask user to enter the tweets he wants."
   ]
  },
  {
   "cell_type": "code",
   "execution_count": 6,
   "id": "0d4e5708",
   "metadata": {
    "execution": {
     "iopub.execute_input": "2022-11-15T10:26:25.095862Z",
     "iopub.status.busy": "2022-11-15T10:26:25.095121Z",
     "iopub.status.idle": "2022-11-15T10:26:25.183292Z",
     "shell.execute_reply": "2022-11-15T10:26:25.181515Z"
    },
    "papermill": {
     "duration": 0.102439,
     "end_time": "2022-11-15T10:26:25.185431",
     "exception": true,
     "start_time": "2022-11-15T10:26:25.082992",
     "status": "failed"
    },
    "tags": []
   },
   "outputs": [
    {
     "ename": "StdinNotImplementedError",
     "evalue": "raw_input was called, but this frontend does not support input requests.",
     "output_type": "error",
     "traceback": [
      "\u001b[0;31m---------------------------------------------------------------------------\u001b[0m",
      "\u001b[0;31mStdinNotImplementedError\u001b[0m                  Traceback (most recent call last)",
      "\u001b[0;32m/tmp/ipykernel_19/4249357556.py\u001b[0m in \u001b[0;36m<module>\u001b[0;34m\u001b[0m\n\u001b[0;32m----> 1\u001b[0;31m \u001b[0mwords\u001b[0m \u001b[0;34m=\u001b[0m \u001b[0minput\u001b[0m\u001b[0;34m(\u001b[0m\u001b[0;34m\"Enter Twitter HashTag to search for\"\u001b[0m\u001b[0;34m)\u001b[0m\u001b[0;34m\u001b[0m\u001b[0;34m\u001b[0m\u001b[0m\n\u001b[0m\u001b[1;32m      2\u001b[0m \u001b[0mprint\u001b[0m\u001b[0;34m(\u001b[0m\u001b[0;34m\"Enter Date since The Tweets are required in yyyy-mm--dd\"\u001b[0m\u001b[0;34m)\u001b[0m\u001b[0;34m\u001b[0m\u001b[0;34m\u001b[0m\u001b[0m\n\u001b[1;32m      3\u001b[0m \u001b[0mdate_since\u001b[0m \u001b[0;34m=\u001b[0m \u001b[0minput\u001b[0m\u001b[0;34m(\u001b[0m\u001b[0;34m)\u001b[0m\u001b[0;34m\u001b[0m\u001b[0;34m\u001b[0m\u001b[0m\n\u001b[1;32m      4\u001b[0m \u001b[0mnumtweet\u001b[0m \u001b[0;34m=\u001b[0m \u001b[0mint\u001b[0m\u001b[0;34m(\u001b[0m\u001b[0minput\u001b[0m\u001b[0;34m(\u001b[0m\u001b[0;34m\"Enter the no of tweets you want : \"\u001b[0m\u001b[0;34m)\u001b[0m\u001b[0;34m)\u001b[0m\u001b[0;34m\u001b[0m\u001b[0;34m\u001b[0m\u001b[0m\n",
      "\u001b[0;32m/opt/conda/lib/python3.7/site-packages/ipykernel/kernelbase.py\u001b[0m in \u001b[0;36mraw_input\u001b[0;34m(self, prompt)\u001b[0m\n\u001b[1;32m   1173\u001b[0m         \u001b[0;32mif\u001b[0m \u001b[0;32mnot\u001b[0m \u001b[0mself\u001b[0m\u001b[0;34m.\u001b[0m\u001b[0m_allow_stdin\u001b[0m\u001b[0;34m:\u001b[0m\u001b[0;34m\u001b[0m\u001b[0;34m\u001b[0m\u001b[0m\n\u001b[1;32m   1174\u001b[0m             raise StdinNotImplementedError(\n\u001b[0;32m-> 1175\u001b[0;31m                 \u001b[0;34m\"raw_input was called, but this frontend does not support input requests.\"\u001b[0m\u001b[0;34m\u001b[0m\u001b[0;34m\u001b[0m\u001b[0m\n\u001b[0m\u001b[1;32m   1176\u001b[0m             )\n\u001b[1;32m   1177\u001b[0m         return self._input_request(\n",
      "\u001b[0;31mStdinNotImplementedError\u001b[0m: raw_input was called, but this frontend does not support input requests."
     ]
    }
   ],
   "source": [
    "words = input(\"Enter Twitter HashTag to search for\")\n",
    "print(\"Enter Date since The Tweets are required in yyyy-mm--dd\")\n",
    "date_since = input()\n",
    "numtweet = int(input(\"Enter the no of tweets you want : \"))\n"
   ]
  },
  {
   "cell_type": "markdown",
   "id": "ed165e18",
   "metadata": {
    "papermill": {
     "duration": null,
     "end_time": null,
     "exception": null,
     "start_time": null,
     "status": "pending"
    },
    "tags": []
   },
   "source": [
    "# We will perform our task by Running the function"
   ]
  },
  {
   "cell_type": "code",
   "execution_count": null,
   "id": "c851d361",
   "metadata": {
    "collapsed": true,
    "execution": {
     "iopub.execute_input": "2022-11-15T10:20:20.953363Z",
     "iopub.status.busy": "2022-11-15T10:20:20.952888Z",
     "iopub.status.idle": "2022-11-15T10:20:26.218787Z",
     "shell.execute_reply": "2022-11-15T10:20:26.217589Z",
     "shell.execute_reply.started": "2022-11-15T10:20:20.953332Z"
    },
    "jupyter": {
     "outputs_hidden": true
    },
    "papermill": {
     "duration": null,
     "end_time": null,
     "exception": null,
     "start_time": null,
     "status": "pending"
    },
    "tags": []
   },
   "outputs": [],
   "source": [
    "scrape(words, date_since, numtweet)"
   ]
  },
  {
   "cell_type": "code",
   "execution_count": null,
   "id": "86eaef58",
   "metadata": {
    "collapsed": true,
    "execution": {
     "iopub.execute_input": "2022-11-15T10:20:37.509019Z",
     "iopub.status.busy": "2022-11-15T10:20:37.507721Z",
     "iopub.status.idle": "2022-11-15T10:20:37.528676Z",
     "shell.execute_reply": "2022-11-15T10:20:37.527294Z",
     "shell.execute_reply.started": "2022-11-15T10:20:37.508951Z"
    },
    "jupyter": {
     "outputs_hidden": true
    },
    "papermill": {
     "duration": null,
     "end_time": null,
     "exception": null,
     "start_time": null,
     "status": "pending"
    },
    "tags": []
   },
   "outputs": [],
   "source": [
    "Table = pd.read_csv('tweets_data.csv')\n",
    "Table.head(5)"
   ]
  },
  {
   "cell_type": "markdown",
   "id": "1174e581",
   "metadata": {
    "papermill": {
     "duration": null,
     "end_time": null,
     "exception": null,
     "start_time": null,
     "status": "pending"
    },
    "tags": []
   },
   "source": [
    "# 2) Data Pre processing \n",
    "We can see here that the Text in the table contains (username,url and special char), We will eliminate these char. Also we need only the text for sentimental analysis, We will delete the remaining columns"
   ]
  },
  {
   "cell_type": "code",
   "execution_count": null,
   "id": "55cc3204",
   "metadata": {
    "execution": {
     "iopub.execute_input": "2022-11-15T10:20:42.885381Z",
     "iopub.status.busy": "2022-11-15T10:20:42.884929Z",
     "iopub.status.idle": "2022-11-15T10:20:42.892054Z",
     "shell.execute_reply": "2022-11-15T10:20:42.890756Z",
     "shell.execute_reply.started": "2022-11-15T10:20:42.885346Z"
    },
    "papermill": {
     "duration": null,
     "end_time": null,
     "exception": null,
     "start_time": null,
     "status": "pending"
    },
    "tags": []
   },
   "outputs": [],
   "source": [
    "Table = Table.drop(['Unnamed: 0','username','description','location','following','followers','totaltweets','retweetcount','hashtags'],axis =1)"
   ]
  },
  {
   "cell_type": "code",
   "execution_count": null,
   "id": "15bf7b68",
   "metadata": {
    "execution": {
     "iopub.execute_input": "2022-11-15T10:20:50.630047Z",
     "iopub.status.busy": "2022-11-15T10:20:50.629378Z",
     "iopub.status.idle": "2022-11-15T10:20:50.641811Z",
     "shell.execute_reply": "2022-11-15T10:20:50.640396Z",
     "shell.execute_reply.started": "2022-11-15T10:20:50.630001Z"
    },
    "papermill": {
     "duration": null,
     "end_time": null,
     "exception": null,
     "start_time": null,
     "status": "pending"
    },
    "tags": []
   },
   "outputs": [],
   "source": [
    "Table.head()"
   ]
  },
  {
   "cell_type": "markdown",
   "id": "668cb1e1",
   "metadata": {
    "papermill": {
     "duration": null,
     "end_time": null,
     "exception": null,
     "start_time": null,
     "status": "pending"
    },
    "tags": []
   },
   "source": [
    "We will add a index column to the dataframe"
   ]
  },
  {
   "cell_type": "code",
   "execution_count": null,
   "id": "d8357799",
   "metadata": {
    "execution": {
     "iopub.execute_input": "2022-11-15T10:20:58.776021Z",
     "iopub.status.busy": "2022-11-15T10:20:58.775571Z",
     "iopub.status.idle": "2022-11-15T10:20:58.783445Z",
     "shell.execute_reply": "2022-11-15T10:20:58.782177Z",
     "shell.execute_reply.started": "2022-11-15T10:20:58.775949Z"
    },
    "papermill": {
     "duration": null,
     "end_time": null,
     "exception": null,
     "start_time": null,
     "status": "pending"
    },
    "tags": []
   },
   "outputs": [],
   "source": [
    "Index = range(1,101)\n",
    "Table['Index']=Index\n",
    "Table.set_index('Index',inplace = True)"
   ]
  },
  {
   "cell_type": "markdown",
   "id": "63b5fa7d",
   "metadata": {
    "papermill": {
     "duration": null,
     "end_time": null,
     "exception": null,
     "start_time": null,
     "status": "pending"
    },
    "tags": []
   },
   "source": [
    "# Cleaning Data\n",
    "We will use re library to delete the unwanted text"
   ]
  },
  {
   "cell_type": "markdown",
   "id": "55ab4779",
   "metadata": {
    "papermill": {
     "duration": null,
     "end_time": null,
     "exception": null,
     "start_time": null,
     "status": "pending"
    },
    "tags": []
   },
   "source": []
  },
  {
   "cell_type": "code",
   "execution_count": null,
   "id": "5c791042",
   "metadata": {
    "execution": {
     "iopub.execute_input": "2022-11-15T10:21:05.564436Z",
     "iopub.status.busy": "2022-11-15T10:21:05.563564Z",
     "iopub.status.idle": "2022-11-15T10:21:05.572792Z",
     "shell.execute_reply": "2022-11-15T10:21:05.571404Z",
     "shell.execute_reply.started": "2022-11-15T10:21:05.564388Z"
    },
    "papermill": {
     "duration": null,
     "end_time": null,
     "exception": null,
     "start_time": null,
     "status": "pending"
    },
    "tags": []
   },
   "outputs": [],
   "source": [
    "def Clean_text(text):\n",
    "    text = re.sub(r'@[A-Za-z0-9]+', '',text)\n",
    "    text = re.sub(r'#', '',text)\n",
    "    text = re.sub(r'RT[\\s]+', '',text)\n",
    "    text = re.sub(r'https?:\\/\\/\\S+', '',text)\n",
    "    return text\n",
    "\n",
    "Table['text'] = Table['text'].apply(Clean_text)"
   ]
  },
  {
   "cell_type": "code",
   "execution_count": null,
   "id": "c7ccc3e3",
   "metadata": {
    "execution": {
     "iopub.execute_input": "2022-11-15T10:21:19.625617Z",
     "iopub.status.busy": "2022-11-15T10:21:19.625177Z",
     "iopub.status.idle": "2022-11-15T10:21:19.636757Z",
     "shell.execute_reply": "2022-11-15T10:21:19.635359Z",
     "shell.execute_reply.started": "2022-11-15T10:21:19.625582Z"
    },
    "papermill": {
     "duration": null,
     "end_time": null,
     "exception": null,
     "start_time": null,
     "status": "pending"
    },
    "tags": []
   },
   "outputs": [],
   "source": [
    "Table.head()"
   ]
  },
  {
   "cell_type": "code",
   "execution_count": null,
   "id": "ae25d6f1",
   "metadata": {
    "execution": {
     "iopub.execute_input": "2022-11-15T10:21:28.376735Z",
     "iopub.status.busy": "2022-11-15T10:21:28.376297Z",
     "iopub.status.idle": "2022-11-15T10:21:28.383871Z",
     "shell.execute_reply": "2022-11-15T10:21:28.382657Z",
     "shell.execute_reply.started": "2022-11-15T10:21:28.376696Z"
    },
    "papermill": {
     "duration": null,
     "end_time": null,
     "exception": null,
     "start_time": null,
     "status": "pending"
    },
    "tags": []
   },
   "outputs": [],
   "source": [
    "Table.shape"
   ]
  },
  {
   "cell_type": "markdown",
   "id": "9c7aec90",
   "metadata": {
    "papermill": {
     "duration": null,
     "end_time": null,
     "exception": null,
     "start_time": null,
     "status": "pending"
    },
    "tags": []
   },
   "source": [
    "# 3) Data Analysis (Sentimental Analysis)\n",
    "After cleaning data we will analysize the text into : Positive,Negative or Neutral\n",
    "For this we use TextBlob library"
   ]
  },
  {
   "cell_type": "code",
   "execution_count": null,
   "id": "2fff05ed",
   "metadata": {
    "execution": {
     "iopub.execute_input": "2022-11-15T10:21:31.158539Z",
     "iopub.status.busy": "2022-11-15T10:21:31.158126Z",
     "iopub.status.idle": "2022-11-15T10:21:31.164259Z",
     "shell.execute_reply": "2022-11-15T10:21:31.162860Z",
     "shell.execute_reply.started": "2022-11-15T10:21:31.158506Z"
    },
    "papermill": {
     "duration": null,
     "end_time": null,
     "exception": null,
     "start_time": null,
     "status": "pending"
    },
    "tags": []
   },
   "outputs": [],
   "source": [
    "from textblob import TextBlob"
   ]
  },
  {
   "cell_type": "markdown",
   "id": "896b62a9",
   "metadata": {
    "papermill": {
     "duration": null,
     "end_time": null,
     "exception": null,
     "start_time": null,
     "status": "pending"
    },
    "tags": []
   },
   "source": [
    "Creating a funnction to return  the sentimenal values and then applying to the table.\n"
   ]
  },
  {
   "cell_type": "code",
   "execution_count": null,
   "id": "bf95cc0d",
   "metadata": {
    "execution": {
     "iopub.execute_input": "2022-11-15T10:21:51.098918Z",
     "iopub.status.busy": "2022-11-15T10:21:51.098523Z",
     "iopub.status.idle": "2022-11-15T10:21:51.180350Z",
     "shell.execute_reply": "2022-11-15T10:21:51.179209Z",
     "shell.execute_reply.started": "2022-11-15T10:21:51.098886Z"
    },
    "papermill": {
     "duration": null,
     "end_time": null,
     "exception": null,
     "start_time": null,
     "status": "pending"
    },
    "tags": []
   },
   "outputs": [],
   "source": [
    "def getsubjectivity(text):\n",
    "    return TextBlob(text).sentiment.subjectivity\n",
    "\n",
    "def getpolarity(text):\n",
    "    return TextBlob(text).sentiment.polarity\n",
    "\n",
    "Table['Subjectivity'] = Table['text'].apply(getsubjectivity)\n",
    "Table['Polarity'] = Table['text'].apply(getpolarity)"
   ]
  },
  {
   "cell_type": "markdown",
   "id": "1cade7e7",
   "metadata": {
    "papermill": {
     "duration": null,
     "end_time": null,
     "exception": null,
     "start_time": null,
     "status": "pending"
    },
    "tags": []
   },
   "source": [
    "Now we have got Subjectivity and Polarity score, We need to add a column where it shows whether the polarity is negative, positive or neutral."
   ]
  },
  {
   "cell_type": "code",
   "execution_count": null,
   "id": "79dcb34e",
   "metadata": {
    "execution": {
     "iopub.execute_input": "2022-11-15T10:21:54.658683Z",
     "iopub.status.busy": "2022-11-15T10:21:54.658270Z",
     "iopub.status.idle": "2022-11-15T10:21:54.666636Z",
     "shell.execute_reply": "2022-11-15T10:21:54.665052Z",
     "shell.execute_reply.started": "2022-11-15T10:21:54.658650Z"
    },
    "papermill": {
     "duration": null,
     "end_time": null,
     "exception": null,
     "start_time": null,
     "status": "pending"
    },
    "tags": []
   },
   "outputs": [],
   "source": [
    "def getanalysis(score):\n",
    "    if score < 0 :\n",
    "        return \"Negative\"\n",
    "    elif score == 0 :\n",
    "        return \"Neutral\"\n",
    "    else :\n",
    "        return \"Positive\"\n",
    "\n",
    "Table['Analysis'] = Table['Polarity'].apply(getanalysis)"
   ]
  },
  {
   "cell_type": "code",
   "execution_count": null,
   "id": "85e1eb93",
   "metadata": {
    "execution": {
     "iopub.execute_input": "2022-11-15T10:22:03.898265Z",
     "iopub.status.busy": "2022-11-15T10:22:03.897605Z",
     "iopub.status.idle": "2022-11-15T10:22:03.912709Z",
     "shell.execute_reply": "2022-11-15T10:22:03.911149Z",
     "shell.execute_reply.started": "2022-11-15T10:22:03.898213Z"
    },
    "papermill": {
     "duration": null,
     "end_time": null,
     "exception": null,
     "start_time": null,
     "status": "pending"
    },
    "tags": []
   },
   "outputs": [],
   "source": [
    "Table.head()"
   ]
  },
  {
   "cell_type": "markdown",
   "id": "0d5ab909",
   "metadata": {
    "papermill": {
     "duration": null,
     "end_time": null,
     "exception": null,
     "start_time": null,
     "status": "pending"
    },
    "tags": []
   },
   "source": [
    "We want to know what are the most common words occuring in Analysis."
   ]
  },
  {
   "cell_type": "code",
   "execution_count": null,
   "id": "f163973e",
   "metadata": {
    "execution": {
     "iopub.execute_input": "2022-11-15T10:22:10.956502Z",
     "iopub.status.busy": "2022-11-15T10:22:10.956014Z",
     "iopub.status.idle": "2022-11-15T10:22:10.963703Z",
     "shell.execute_reply": "2022-11-15T10:22:10.962486Z",
     "shell.execute_reply.started": "2022-11-15T10:22:10.956466Z"
    },
    "papermill": {
     "duration": null,
     "end_time": null,
     "exception": null,
     "start_time": null,
     "status": "pending"
    },
    "tags": []
   },
   "outputs": [],
   "source": [
    "Negative_Table = Table[Table['Analysis'] == \"Negative\"]"
   ]
  },
  {
   "cell_type": "code",
   "execution_count": null,
   "id": "154518f1",
   "metadata": {
    "execution": {
     "iopub.execute_input": "2022-11-15T10:22:13.287856Z",
     "iopub.status.busy": "2022-11-15T10:22:13.286888Z",
     "iopub.status.idle": "2022-11-15T10:22:13.294407Z",
     "shell.execute_reply": "2022-11-15T10:22:13.293233Z",
     "shell.execute_reply.started": "2022-11-15T10:22:13.287804Z"
    },
    "papermill": {
     "duration": null,
     "end_time": null,
     "exception": null,
     "start_time": null,
     "status": "pending"
    },
    "tags": []
   },
   "outputs": [],
   "source": [
    "Positive_Table = Table[Table['Analysis'] == \"Positive\"]"
   ]
  },
  {
   "cell_type": "code",
   "execution_count": null,
   "id": "3dd1b987",
   "metadata": {
    "execution": {
     "iopub.execute_input": "2022-11-15T10:22:15.782470Z",
     "iopub.status.busy": "2022-11-15T10:22:15.782028Z",
     "iopub.status.idle": "2022-11-15T10:22:15.789667Z",
     "shell.execute_reply": "2022-11-15T10:22:15.788098Z",
     "shell.execute_reply.started": "2022-11-15T10:22:15.782432Z"
    },
    "papermill": {
     "duration": null,
     "end_time": null,
     "exception": null,
     "start_time": null,
     "status": "pending"
    },
    "tags": []
   },
   "outputs": [],
   "source": [
    "Neutral_Table = Table[Table['Analysis'] == \"Neutral\"]"
   ]
  },
  {
   "cell_type": "markdown",
   "id": "d437b4ae",
   "metadata": {
    "papermill": {
     "duration": null,
     "end_time": null,
     "exception": null,
     "start_time": null,
     "status": "pending"
    },
    "tags": []
   },
   "source": [
    "To Extract most common words from the test we need to use wordcloud library"
   ]
  },
  {
   "cell_type": "code",
   "execution_count": null,
   "id": "4a6ce29c",
   "metadata": {
    "execution": {
     "iopub.execute_input": "2022-11-15T10:22:22.809684Z",
     "iopub.status.busy": "2022-11-15T10:22:22.809234Z",
     "iopub.status.idle": "2022-11-15T10:22:22.815896Z",
     "shell.execute_reply": "2022-11-15T10:22:22.814555Z",
     "shell.execute_reply.started": "2022-11-15T10:22:22.809652Z"
    },
    "papermill": {
     "duration": null,
     "end_time": null,
     "exception": null,
     "start_time": null,
     "status": "pending"
    },
    "tags": []
   },
   "outputs": [],
   "source": [
    "from wordcloud import WordCloud\n",
    "import matplotlib\n",
    "import matplotlib.pyplot as plt"
   ]
  },
  {
   "cell_type": "code",
   "execution_count": null,
   "id": "0fe3382a",
   "metadata": {
    "execution": {
     "iopub.execute_input": "2022-11-15T10:22:31.560768Z",
     "iopub.status.busy": "2022-11-15T10:22:31.560348Z",
     "iopub.status.idle": "2022-11-15T10:22:32.121880Z",
     "shell.execute_reply": "2022-11-15T10:22:32.120411Z",
     "shell.execute_reply.started": "2022-11-15T10:22:31.560737Z"
    },
    "papermill": {
     "duration": null,
     "end_time": null,
     "exception": null,
     "start_time": null,
     "status": "pending"
    },
    "tags": []
   },
   "outputs": [],
   "source": [
    "allwords = ' '.join([text for text in Table['text']])\n",
    "wordcloud = WordCloud(width = 500, height = 300, random_state = 21,max_font_size = 119).generate(allwords)\n",
    "\n",
    "plt.imshow(wordcloud,interpolation = 'bilinear')\n",
    "plt.axis('off')\n",
    "plt.show()"
   ]
  },
  {
   "cell_type": "code",
   "execution_count": null,
   "id": "76449b3d",
   "metadata": {
    "execution": {
     "iopub.execute_input": "2022-11-15T10:22:41.579771Z",
     "iopub.status.busy": "2022-11-15T10:22:41.578554Z",
     "iopub.status.idle": "2022-11-15T10:22:42.049259Z",
     "shell.execute_reply": "2022-11-15T10:22:42.048049Z",
     "shell.execute_reply.started": "2022-11-15T10:22:41.579724Z"
    },
    "papermill": {
     "duration": null,
     "end_time": null,
     "exception": null,
     "start_time": null,
     "status": "pending"
    },
    "tags": []
   },
   "outputs": [],
   "source": [
    "Negativewords = ' '.join([text for text in Negative_Table['text']])\n",
    "wordcloud = WordCloud(width = 500, height = 300, random_state = 21,max_font_size = 119).generate(Negativewords)\n",
    "\n",
    "plt.imshow(wordcloud,interpolation = 'bilinear')\n",
    "plt.axis('off')\n",
    "plt.show()"
   ]
  },
  {
   "cell_type": "code",
   "execution_count": null,
   "id": "0158c337",
   "metadata": {
    "execution": {
     "iopub.execute_input": "2022-11-15T10:22:50.343132Z",
     "iopub.status.busy": "2022-11-15T10:22:50.342658Z",
     "iopub.status.idle": "2022-11-15T10:22:50.877529Z",
     "shell.execute_reply": "2022-11-15T10:22:50.876164Z",
     "shell.execute_reply.started": "2022-11-15T10:22:50.343095Z"
    },
    "papermill": {
     "duration": null,
     "end_time": null,
     "exception": null,
     "start_time": null,
     "status": "pending"
    },
    "tags": []
   },
   "outputs": [],
   "source": [
    "Positivewords = ' '.join([text for text in Positive_Table['text']])\n",
    "wordcloud = WordCloud(width = 500, height = 300, random_state = 21,max_font_size = 119).generate(Positivewords)\n",
    "\n",
    "plt.imshow(wordcloud,interpolation = 'bilinear')\n",
    "plt.axis('off')\n",
    "plt.show()"
   ]
  },
  {
   "cell_type": "code",
   "execution_count": null,
   "id": "5c2a3d5c",
   "metadata": {
    "execution": {
     "iopub.execute_input": "2022-11-15T10:22:58.883778Z",
     "iopub.status.busy": "2022-11-15T10:22:58.883373Z",
     "iopub.status.idle": "2022-11-15T10:22:59.415681Z",
     "shell.execute_reply": "2022-11-15T10:22:59.414542Z",
     "shell.execute_reply.started": "2022-11-15T10:22:58.883746Z"
    },
    "papermill": {
     "duration": null,
     "end_time": null,
     "exception": null,
     "start_time": null,
     "status": "pending"
    },
    "tags": []
   },
   "outputs": [],
   "source": [
    "Neutralwords = ' '.join([text for text in Neutral_Table['text']])\n",
    "wordcloud = WordCloud(width = 500, height = 300, random_state = 21,max_font_size = 119).generate(Neutralwords)\n",
    "\n",
    "plt.imshow(wordcloud,interpolation = 'bilinear')\n",
    "plt.axis('off')\n",
    "plt.show()"
   ]
  },
  {
   "cell_type": "markdown",
   "id": "ef8a8408",
   "metadata": {
    "papermill": {
     "duration": null,
     "end_time": null,
     "exception": null,
     "start_time": null,
     "status": "pending"
    },
    "tags": []
   },
   "source": [
    "1. # We will finally use a Bar graph to show the number of positive, negative and neutral Counts"
   ]
  },
  {
   "cell_type": "code",
   "execution_count": null,
   "id": "a333dfc4",
   "metadata": {
    "execution": {
     "iopub.execute_input": "2022-11-15T10:23:09.756790Z",
     "iopub.status.busy": "2022-11-15T10:23:09.756349Z",
     "iopub.status.idle": "2022-11-15T10:23:09.982867Z",
     "shell.execute_reply": "2022-11-15T10:23:09.981301Z",
     "shell.execute_reply.started": "2022-11-15T10:23:09.756756Z"
    },
    "papermill": {
     "duration": null,
     "end_time": null,
     "exception": null,
     "start_time": null,
     "status": "pending"
    },
    "tags": []
   },
   "outputs": [],
   "source": [
    "Table['Analysis'].value_counts()\n",
    "\n",
    "plt.title('Sentiment Analysis')\n",
    "plt.xlabel('Sentiment')\n",
    "plt.ylabel('Count')\n",
    "\n",
    "Table['Analysis'].value_counts().plot(kind='bar')\n",
    "plot.show()"
   ]
  },
  {
   "cell_type": "code",
   "execution_count": null,
   "id": "968ff49a",
   "metadata": {
    "papermill": {
     "duration": null,
     "end_time": null,
     "exception": null,
     "start_time": null,
     "status": "pending"
    },
    "tags": []
   },
   "outputs": [],
   "source": []
  }
 ],
 "metadata": {
  "kernelspec": {
   "display_name": "Python 3",
   "language": "python",
   "name": "python3"
  },
  "language_info": {
   "codemirror_mode": {
    "name": "ipython",
    "version": 3
   },
   "file_extension": ".py",
   "mimetype": "text/x-python",
   "name": "python",
   "nbconvert_exporter": "python",
   "pygments_lexer": "ipython3",
   "version": "3.7.12"
  },
  "papermill": {
   "default_parameters": {},
   "duration": 23.281706,
   "end_time": "2022-11-15T10:26:25.919259",
   "environment_variables": {},
   "exception": true,
   "input_path": "__notebook__.ipynb",
   "output_path": "__notebook__.ipynb",
   "parameters": {},
   "start_time": "2022-11-15T10:26:02.637553",
   "version": "2.3.4"
  }
 },
 "nbformat": 4,
 "nbformat_minor": 5
}
